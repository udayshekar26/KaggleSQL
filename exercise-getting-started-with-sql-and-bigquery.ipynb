{
 "cells": [
  {
   "cell_type": "markdown",
   "id": "342e3297",
   "metadata": {
    "papermill": {
     "duration": 0.009158,
     "end_time": "2022-07-13T04:18:33.462408",
     "exception": false,
     "start_time": "2022-07-13T04:18:33.453250",
     "status": "completed"
    },
    "tags": []
   },
   "source": [
    "**This notebook is an exercise in the [SQL](https://www.kaggle.com/learn/intro-to-sql) course.  You can reference the tutorial at [this link](https://www.kaggle.com/dansbecker/getting-started-with-sql-and-bigquery).**\n",
    "\n",
    "---\n"
   ]
  },
  {
   "cell_type": "markdown",
   "id": "e0f96198",
   "metadata": {
    "papermill": {
     "duration": 0.006391,
     "end_time": "2022-07-13T04:18:33.475698",
     "exception": false,
     "start_time": "2022-07-13T04:18:33.469307",
     "status": "completed"
    },
    "tags": []
   },
   "source": [
    "# Introduction\n",
    "\n",
    "The first test of your new data exploration skills uses data describing crime in the city of Chicago.\n",
    "\n",
    "Before you get started, run the following cell. It sets up the automated feedback system to review your answers."
   ]
  },
  {
   "cell_type": "code",
   "execution_count": 1,
   "id": "ce585f74",
   "metadata": {
    "execution": {
     "iopub.execute_input": "2022-07-13T04:18:33.488742Z",
     "iopub.status.busy": "2022-07-13T04:18:33.488308Z",
     "iopub.status.idle": "2022-07-13T04:18:34.428529Z",
     "shell.execute_reply": "2022-07-13T04:18:34.426548Z"
    },
    "papermill": {
     "duration": 0.94839,
     "end_time": "2022-07-13T04:18:34.430880",
     "exception": false,
     "start_time": "2022-07-13T04:18:33.482490",
     "status": "completed"
    },
    "tags": []
   },
   "outputs": [
    {
     "name": "stdout",
     "output_type": "stream",
     "text": [
      "Using Kaggle's public dataset BigQuery integration.\n",
      "Setup Complete\n"
     ]
    }
   ],
   "source": [
    "# Set up feedack system\n",
    "from learntools.core import binder\n",
    "binder.bind(globals())\n",
    "from learntools.sql.ex1 import *\n",
    "print(\"Setup Complete\")"
   ]
  },
  {
   "cell_type": "markdown",
   "id": "131be2ce",
   "metadata": {
    "papermill": {
     "duration": 0.006698,
     "end_time": "2022-07-13T04:18:34.444602",
     "exception": false,
     "start_time": "2022-07-13T04:18:34.437904",
     "status": "completed"
    },
    "tags": []
   },
   "source": [
    "Use the next code cell to fetch the dataset."
   ]
  },
  {
   "cell_type": "code",
   "execution_count": 2,
   "id": "f624531d",
   "metadata": {
    "execution": {
     "iopub.execute_input": "2022-07-13T04:18:34.459780Z",
     "iopub.status.busy": "2022-07-13T04:18:34.459494Z",
     "iopub.status.idle": "2022-07-13T04:18:34.884536Z",
     "shell.execute_reply": "2022-07-13T04:18:34.883762Z"
    },
    "papermill": {
     "duration": 0.435179,
     "end_time": "2022-07-13T04:18:34.886542",
     "exception": false,
     "start_time": "2022-07-13T04:18:34.451363",
     "status": "completed"
    },
    "tags": []
   },
   "outputs": [
    {
     "name": "stdout",
     "output_type": "stream",
     "text": [
      "Using Kaggle's public dataset BigQuery integration.\n"
     ]
    }
   ],
   "source": [
    "from google.cloud import bigquery\n",
    "\n",
    "# Create a \"Client\" object\n",
    "client = bigquery.Client()\n",
    "\n",
    "# Construct a reference to the \"chicago_crime\" dataset\n",
    "dataset_ref = client.dataset(\"chicago_crime\", project=\"bigquery-public-data\")\n",
    "\n",
    "# API request - fetch the dataset\n",
    "dataset = client.get_dataset(dataset_ref)"
   ]
  },
  {
   "cell_type": "markdown",
   "id": "070e5999",
   "metadata": {
    "papermill": {
     "duration": 0.004083,
     "end_time": "2022-07-13T04:18:34.895242",
     "exception": false,
     "start_time": "2022-07-13T04:18:34.891159",
     "status": "completed"
    },
    "tags": []
   },
   "source": [
    "# Exercises\n",
    "\n",
    "### 1) Count tables in the dataset\n",
    "\n",
    "How many tables are in the Chicago Crime dataset?"
   ]
  },
  {
   "cell_type": "code",
   "execution_count": 3,
   "id": "c98b1b98",
   "metadata": {
    "execution": {
     "iopub.execute_input": "2022-07-13T04:18:34.905815Z",
     "iopub.status.busy": "2022-07-13T04:18:34.905274Z",
     "iopub.status.idle": "2022-07-13T04:18:35.172101Z",
     "shell.execute_reply": "2022-07-13T04:18:35.170664Z"
    },
    "papermill": {
     "duration": 0.275034,
     "end_time": "2022-07-13T04:18:35.174476",
     "exception": false,
     "start_time": "2022-07-13T04:18:34.899442",
     "status": "completed"
    },
    "tags": []
   },
   "outputs": [
    {
     "name": "stdout",
     "output_type": "stream",
     "text": [
      "1\n",
      "crime\n"
     ]
    }
   ],
   "source": [
    "# Write the code you need here to figure out the answer\n",
    "tables = list(client.list_tables(dataset))\n",
    "print(len(tables))\n",
    "for table in tables:\n",
    "    print((table.table_id))"
   ]
  },
  {
   "cell_type": "code",
   "execution_count": 4,
   "id": "d32b9343",
   "metadata": {
    "execution": {
     "iopub.execute_input": "2022-07-13T04:18:35.185159Z",
     "iopub.status.busy": "2022-07-13T04:18:35.184648Z",
     "iopub.status.idle": "2022-07-13T04:18:35.193336Z",
     "shell.execute_reply": "2022-07-13T04:18:35.192426Z"
    },
    "papermill": {
     "duration": 0.016138,
     "end_time": "2022-07-13T04:18:35.195377",
     "exception": false,
     "start_time": "2022-07-13T04:18:35.179239",
     "status": "completed"
    },
    "tags": []
   },
   "outputs": [
    {
     "data": {
      "application/javascript": [
       "parent.postMessage({\"jupyterEvent\": \"custom.exercise_interaction\", \"data\": {\"outcomeType\": 1, \"valueTowardsCompletion\": 0.3333333333333333, \"interactionType\": 1, \"questionType\": 1, \"questionId\": \"1_CountTables\", \"learnToolsVersion\": \"0.3.4\", \"failureMessage\": \"\", \"exceptionClass\": \"\", \"trace\": \"\"}}, \"*\")"
      ],
      "text/plain": [
       "<IPython.core.display.Javascript object>"
      ]
     },
     "metadata": {},
     "output_type": "display_data"
    },
    {
     "data": {
      "text/markdown": [
       "<span style=\"color:#33cc33\">Correct</span>"
      ],
      "text/plain": [
       "Correct"
      ]
     },
     "metadata": {},
     "output_type": "display_data"
    }
   ],
   "source": [
    "num_tables = 1 # Store the answer as num_tables and then run this cell\n",
    "\n",
    "# Check your answer\n",
    "q_1.check()"
   ]
  },
  {
   "cell_type": "markdown",
   "id": "0d9b9e60",
   "metadata": {
    "papermill": {
     "duration": 0.006966,
     "end_time": "2022-07-13T04:18:35.209869",
     "exception": false,
     "start_time": "2022-07-13T04:18:35.202903",
     "status": "completed"
    },
    "tags": []
   },
   "source": [
    "For a hint or the solution, uncomment the appropriate line below."
   ]
  },
  {
   "cell_type": "code",
   "execution_count": 5,
   "id": "8b3ac5ea",
   "metadata": {
    "execution": {
     "iopub.execute_input": "2022-07-13T04:18:35.226192Z",
     "iopub.status.busy": "2022-07-13T04:18:35.225617Z",
     "iopub.status.idle": "2022-07-13T04:18:35.233569Z",
     "shell.execute_reply": "2022-07-13T04:18:35.232753Z"
    },
    "papermill": {
     "duration": 0.018565,
     "end_time": "2022-07-13T04:18:35.235538",
     "exception": false,
     "start_time": "2022-07-13T04:18:35.216973",
     "status": "completed"
    },
    "tags": []
   },
   "outputs": [
    {
     "data": {
      "application/javascript": [
       "parent.postMessage({\"jupyterEvent\": \"custom.exercise_interaction\", \"data\": {\"interactionType\": 3, \"questionType\": 1, \"questionId\": \"1_CountTables\", \"learnToolsVersion\": \"0.3.4\", \"valueTowardsCompletion\": 0.0, \"failureMessage\": \"\", \"exceptionClass\": \"\", \"trace\": \"\", \"outcomeType\": 4}}, \"*\")"
      ],
      "text/plain": [
       "<IPython.core.display.Javascript object>"
      ]
     },
     "metadata": {},
     "output_type": "display_data"
    },
    {
     "data": {
      "text/markdown": [
       "<span style=\"color:#33cc99\">Solution:</span> \n",
       "```python\n",
       "\n",
       "# List all the tables in the \"chicago_crime\" dataset\n",
       "tables = list(client.list_tables(dataset))\n",
       "\n",
       "# Print number of tables in the dataset\n",
       "print(len(tables))\n",
       "\n",
       "num_tables = 1\n",
       "\n",
       "```"
      ],
      "text/plain": [
       "Solution: \n",
       "```python\n",
       "\n",
       "# List all the tables in the \"chicago_crime\" dataset\n",
       "tables = list(client.list_tables(dataset))\n",
       "\n",
       "# Print number of tables in the dataset\n",
       "print(len(tables))\n",
       "\n",
       "num_tables = 1\n",
       "\n",
       "```"
      ]
     },
     "metadata": {},
     "output_type": "display_data"
    }
   ],
   "source": [
    "#q_1.hint()\n",
    "q_1.solution()"
   ]
  },
  {
   "cell_type": "markdown",
   "id": "db8576e6",
   "metadata": {
    "papermill": {
     "duration": 0.007257,
     "end_time": "2022-07-13T04:18:35.250412",
     "exception": false,
     "start_time": "2022-07-13T04:18:35.243155",
     "status": "completed"
    },
    "tags": []
   },
   "source": [
    "### 2) Explore the table schema\n",
    "\n",
    "How many columns in the `crime` table have `TIMESTAMP` data?"
   ]
  },
  {
   "cell_type": "code",
   "execution_count": 6,
   "id": "ebfa8bd3",
   "metadata": {
    "execution": {
     "iopub.execute_input": "2022-07-13T04:18:35.267962Z",
     "iopub.status.busy": "2022-07-13T04:18:35.267383Z",
     "iopub.status.idle": "2022-07-13T04:18:35.534001Z",
     "shell.execute_reply": "2022-07-13T04:18:35.533038Z"
    },
    "papermill": {
     "duration": 0.277783,
     "end_time": "2022-07-13T04:18:35.536045",
     "exception": false,
     "start_time": "2022-07-13T04:18:35.258262",
     "status": "completed"
    },
    "tags": []
   },
   "outputs": [
    {
     "data": {
      "text/plain": [
       "[SchemaField('unique_key', 'INTEGER', 'REQUIRED', None, (), None),\n",
       " SchemaField('case_number', 'STRING', 'NULLABLE', None, (), None),\n",
       " SchemaField('date', 'TIMESTAMP', 'NULLABLE', None, (), None),\n",
       " SchemaField('block', 'STRING', 'NULLABLE', None, (), None),\n",
       " SchemaField('iucr', 'STRING', 'NULLABLE', None, (), None),\n",
       " SchemaField('primary_type', 'STRING', 'NULLABLE', None, (), None),\n",
       " SchemaField('description', 'STRING', 'NULLABLE', None, (), None),\n",
       " SchemaField('location_description', 'STRING', 'NULLABLE', None, (), None),\n",
       " SchemaField('arrest', 'BOOLEAN', 'NULLABLE', None, (), None),\n",
       " SchemaField('domestic', 'BOOLEAN', 'NULLABLE', None, (), None),\n",
       " SchemaField('beat', 'INTEGER', 'NULLABLE', None, (), None),\n",
       " SchemaField('district', 'INTEGER', 'NULLABLE', None, (), None),\n",
       " SchemaField('ward', 'INTEGER', 'NULLABLE', None, (), None),\n",
       " SchemaField('community_area', 'INTEGER', 'NULLABLE', None, (), None),\n",
       " SchemaField('fbi_code', 'STRING', 'NULLABLE', None, (), None),\n",
       " SchemaField('x_coordinate', 'FLOAT', 'NULLABLE', None, (), None),\n",
       " SchemaField('y_coordinate', 'FLOAT', 'NULLABLE', None, (), None),\n",
       " SchemaField('year', 'INTEGER', 'NULLABLE', None, (), None),\n",
       " SchemaField('updated_on', 'TIMESTAMP', 'NULLABLE', None, (), None),\n",
       " SchemaField('latitude', 'FLOAT', 'NULLABLE', None, (), None),\n",
       " SchemaField('longitude', 'FLOAT', 'NULLABLE', None, (), None),\n",
       " SchemaField('location', 'STRING', 'NULLABLE', None, (), None)]"
      ]
     },
     "execution_count": 6,
     "metadata": {},
     "output_type": "execute_result"
    }
   ],
   "source": [
    "# Write the code to figure out the answer\n",
    "table_ref = dataset_ref.table(\"crime\")\n",
    "table = client.get_table(table_ref)\n",
    "table.schema"
   ]
  },
  {
   "cell_type": "code",
   "execution_count": 7,
   "id": "d6073948",
   "metadata": {
    "execution": {
     "iopub.execute_input": "2022-07-13T04:18:35.553758Z",
     "iopub.status.busy": "2022-07-13T04:18:35.553053Z",
     "iopub.status.idle": "2022-07-13T04:18:35.564565Z",
     "shell.execute_reply": "2022-07-13T04:18:35.563689Z"
    },
    "papermill": {
     "duration": 0.022799,
     "end_time": "2022-07-13T04:18:35.566732",
     "exception": false,
     "start_time": "2022-07-13T04:18:35.543933",
     "status": "completed"
    },
    "tags": []
   },
   "outputs": [
    {
     "data": {
      "application/javascript": [
       "parent.postMessage({\"jupyterEvent\": \"custom.exercise_interaction\", \"data\": {\"outcomeType\": 1, \"valueTowardsCompletion\": 0.3333333333333333, \"interactionType\": 1, \"questionType\": 1, \"questionId\": \"2_CountTimestampFields\", \"learnToolsVersion\": \"0.3.4\", \"failureMessage\": \"\", \"exceptionClass\": \"\", \"trace\": \"\"}}, \"*\")"
      ],
      "text/plain": [
       "<IPython.core.display.Javascript object>"
      ]
     },
     "metadata": {},
     "output_type": "display_data"
    },
    {
     "data": {
      "text/markdown": [
       "<span style=\"color:#33cc33\">Correct</span>"
      ],
      "text/plain": [
       "Correct"
      ]
     },
     "metadata": {},
     "output_type": "display_data"
    }
   ],
   "source": [
    "num_timestamp_fields = 2 # Put your answer here\n",
    "\n",
    "# Check your answer\n",
    "q_2.check()"
   ]
  },
  {
   "cell_type": "markdown",
   "id": "cdfcd386",
   "metadata": {
    "papermill": {
     "duration": 0.007929,
     "end_time": "2022-07-13T04:18:35.583215",
     "exception": false,
     "start_time": "2022-07-13T04:18:35.575286",
     "status": "completed"
    },
    "tags": []
   },
   "source": [
    "For a hint or the solution, uncomment the appropriate line below."
   ]
  },
  {
   "cell_type": "code",
   "execution_count": 8,
   "id": "37dbd297",
   "metadata": {
    "execution": {
     "iopub.execute_input": "2022-07-13T04:18:35.601275Z",
     "iopub.status.busy": "2022-07-13T04:18:35.600653Z",
     "iopub.status.idle": "2022-07-13T04:18:35.608462Z",
     "shell.execute_reply": "2022-07-13T04:18:35.607740Z"
    },
    "papermill": {
     "duration": 0.01922,
     "end_time": "2022-07-13T04:18:35.610487",
     "exception": false,
     "start_time": "2022-07-13T04:18:35.591267",
     "status": "completed"
    },
    "tags": []
   },
   "outputs": [
    {
     "data": {
      "application/javascript": [
       "parent.postMessage({\"jupyterEvent\": \"custom.exercise_interaction\", \"data\": {\"interactionType\": 2, \"questionType\": 1, \"questionId\": \"2_CountTimestampFields\", \"learnToolsVersion\": \"0.3.4\", \"valueTowardsCompletion\": 0.0, \"failureMessage\": \"\", \"exceptionClass\": \"\", \"trace\": \"\", \"outcomeType\": 4}}, \"*\")"
      ],
      "text/plain": [
       "<IPython.core.display.Javascript object>"
      ]
     },
     "metadata": {},
     "output_type": "display_data"
    },
    {
     "data": {
      "text/markdown": [
       "<span style=\"color:#3366cc\">Hint:</span> Begin by fetching the `crime` table. Then take a look at the table schema, and check the field type of each column.  How many times does `'TIMESTAMP'` appear?"
      ],
      "text/plain": [
       "Hint: Begin by fetching the `crime` table. Then take a look at the table schema, and check the field type of each column.  How many times does `'TIMESTAMP'` appear?"
      ]
     },
     "metadata": {},
     "output_type": "display_data"
    }
   ],
   "source": [
    "q_2.hint()\n",
    "#q_2.solution()"
   ]
  },
  {
   "cell_type": "markdown",
   "id": "81474c6b",
   "metadata": {
    "papermill": {
     "duration": 0.008063,
     "end_time": "2022-07-13T04:18:35.627746",
     "exception": false,
     "start_time": "2022-07-13T04:18:35.619683",
     "status": "completed"
    },
    "tags": []
   },
   "source": [
    "### 3) Create a crime map\n",
    "\n",
    "If you wanted to create a map with a dot at the location of each crime, what are the names of the two fields you likely need to pull out of the `crime` table to plot the crimes on a map?"
   ]
  },
  {
   "cell_type": "code",
   "execution_count": 9,
   "id": "8f01f3b9",
   "metadata": {
    "execution": {
     "iopub.execute_input": "2022-07-13T04:18:35.646369Z",
     "iopub.status.busy": "2022-07-13T04:18:35.645735Z",
     "iopub.status.idle": "2022-07-13T04:18:36.204700Z",
     "shell.execute_reply": "2022-07-13T04:18:36.202789Z"
    },
    "papermill": {
     "duration": 0.570624,
     "end_time": "2022-07-13T04:18:36.206747",
     "exception": false,
     "start_time": "2022-07-13T04:18:35.636123",
     "status": "completed"
    },
    "tags": []
   },
   "outputs": [
    {
     "name": "stderr",
     "output_type": "stream",
     "text": [
      "/opt/conda/lib/python3.7/site-packages/ipykernel_launcher.py:2: UserWarning: Cannot use bqstorage_client if max_results is set, reverting to fetching data with the tabledata.list endpoint.\n",
      "  \n"
     ]
    },
    {
     "data": {
      "text/html": [
       "<div>\n",
       "<style scoped>\n",
       "    .dataframe tbody tr th:only-of-type {\n",
       "        vertical-align: middle;\n",
       "    }\n",
       "\n",
       "    .dataframe tbody tr th {\n",
       "        vertical-align: top;\n",
       "    }\n",
       "\n",
       "    .dataframe thead th {\n",
       "        text-align: right;\n",
       "    }\n",
       "</style>\n",
       "<table border=\"1\" class=\"dataframe\">\n",
       "  <thead>\n",
       "    <tr style=\"text-align: right;\">\n",
       "      <th></th>\n",
       "      <th>unique_key</th>\n",
       "      <th>case_number</th>\n",
       "      <th>date</th>\n",
       "      <th>block</th>\n",
       "      <th>iucr</th>\n",
       "      <th>primary_type</th>\n",
       "      <th>description</th>\n",
       "      <th>location_description</th>\n",
       "      <th>arrest</th>\n",
       "      <th>domestic</th>\n",
       "      <th>...</th>\n",
       "      <th>ward</th>\n",
       "      <th>community_area</th>\n",
       "      <th>fbi_code</th>\n",
       "      <th>x_coordinate</th>\n",
       "      <th>y_coordinate</th>\n",
       "      <th>year</th>\n",
       "      <th>updated_on</th>\n",
       "      <th>latitude</th>\n",
       "      <th>longitude</th>\n",
       "      <th>location</th>\n",
       "    </tr>\n",
       "  </thead>\n",
       "  <tbody>\n",
       "    <tr>\n",
       "      <th>0</th>\n",
       "      <td>2719024</td>\n",
       "      <td>HJ338803</td>\n",
       "      <td>2003-05-03 02:49:48+00:00</td>\n",
       "      <td>130XX S INDIANA AVE</td>\n",
       "      <td>0340</td>\n",
       "      <td>ROBBERY</td>\n",
       "      <td>ATTEMPT: STRONGARM-NO WEAPON</td>\n",
       "      <td>STREET</td>\n",
       "      <td>False</td>\n",
       "      <td>False</td>\n",
       "      <td>...</td>\n",
       "      <td>9</td>\n",
       "      <td>54</td>\n",
       "      <td>03</td>\n",
       "      <td>1179915.0</td>\n",
       "      <td>1819012.0</td>\n",
       "      <td>2003</td>\n",
       "      <td>2018-02-28 03:56:25+00:00</td>\n",
       "      <td>41.658636</td>\n",
       "      <td>-87.617298</td>\n",
       "      <td>(41.658635903, -87.617297524)</td>\n",
       "    </tr>\n",
       "    <tr>\n",
       "      <th>1</th>\n",
       "      <td>2723960</td>\n",
       "      <td>HJ356463</td>\n",
       "      <td>2003-05-11 02:15:00+00:00</td>\n",
       "      <td>063XX N SPRINGFIELD AVE</td>\n",
       "      <td>2830</td>\n",
       "      <td>OTHER OFFENSE</td>\n",
       "      <td>OBSCENE TELEPHONE CALLS</td>\n",
       "      <td>RESIDENCE</td>\n",
       "      <td>False</td>\n",
       "      <td>False</td>\n",
       "      <td>...</td>\n",
       "      <td>39</td>\n",
       "      <td>13</td>\n",
       "      <td>17</td>\n",
       "      <td>1149223.0</td>\n",
       "      <td>1941702.0</td>\n",
       "      <td>2003</td>\n",
       "      <td>2018-02-28 03:56:25+00:00</td>\n",
       "      <td>41.995959</td>\n",
       "      <td>-87.726437</td>\n",
       "      <td>(41.995958935, -87.726436721)</td>\n",
       "    </tr>\n",
       "    <tr>\n",
       "      <th>2</th>\n",
       "      <td>2729187</td>\n",
       "      <td>HJ340573</td>\n",
       "      <td>2003-05-04 12:53:00+00:00</td>\n",
       "      <td>052XX N HARLEM AVE</td>\n",
       "      <td>2250</td>\n",
       "      <td>LIQUOR LAW VIOLATION</td>\n",
       "      <td>LIQUOR LICENSE VIOLATION</td>\n",
       "      <td>RESTAURANT</td>\n",
       "      <td>True</td>\n",
       "      <td>False</td>\n",
       "      <td>...</td>\n",
       "      <td>41</td>\n",
       "      <td>10</td>\n",
       "      <td>22</td>\n",
       "      <td>1127354.0</td>\n",
       "      <td>1934238.0</td>\n",
       "      <td>2003</td>\n",
       "      <td>2018-02-28 03:56:25+00:00</td>\n",
       "      <td>41.975874</td>\n",
       "      <td>-87.807053</td>\n",
       "      <td>(41.975874105, -87.807052779)</td>\n",
       "    </tr>\n",
       "    <tr>\n",
       "      <th>3</th>\n",
       "      <td>2842760</td>\n",
       "      <td>HJ508197</td>\n",
       "      <td>2003-07-21 01:30:00+00:00</td>\n",
       "      <td>133XX S INDIANA AVE</td>\n",
       "      <td>0337</td>\n",
       "      <td>ROBBERY</td>\n",
       "      <td>ATTEMPT: ARMED-OTHER DANG WEAP</td>\n",
       "      <td>STREET</td>\n",
       "      <td>False</td>\n",
       "      <td>False</td>\n",
       "      <td>...</td>\n",
       "      <td>9</td>\n",
       "      <td>54</td>\n",
       "      <td>03</td>\n",
       "      <td>1179952.0</td>\n",
       "      <td>1816688.0</td>\n",
       "      <td>2003</td>\n",
       "      <td>2018-02-28 03:56:25+00:00</td>\n",
       "      <td>41.652258</td>\n",
       "      <td>-87.617233</td>\n",
       "      <td>(41.652257634, -87.617232779)</td>\n",
       "    </tr>\n",
       "    <tr>\n",
       "      <th>4</th>\n",
       "      <td>2847006</td>\n",
       "      <td>HJ467423</td>\n",
       "      <td>2003-01-16 11:27:00+00:00</td>\n",
       "      <td>025XX N NORMANDY AVE</td>\n",
       "      <td>1205</td>\n",
       "      <td>DECEPTIVE PRACTICE</td>\n",
       "      <td>THEFT BY LESSEE,NON-VEH</td>\n",
       "      <td>DEPARTMENT STORE</td>\n",
       "      <td>False</td>\n",
       "      <td>False</td>\n",
       "      <td>...</td>\n",
       "      <td>36</td>\n",
       "      <td>18</td>\n",
       "      <td>11</td>\n",
       "      <td>1131321.0</td>\n",
       "      <td>1916235.0</td>\n",
       "      <td>2003</td>\n",
       "      <td>2018-02-28 03:56:25+00:00</td>\n",
       "      <td>41.926404</td>\n",
       "      <td>-87.792882</td>\n",
       "      <td>(41.926404101, -87.792881805)</td>\n",
       "    </tr>\n",
       "  </tbody>\n",
       "</table>\n",
       "<p>5 rows × 22 columns</p>\n",
       "</div>"
      ],
      "text/plain": [
       "   unique_key case_number                      date                    block  \\\n",
       "0     2719024    HJ338803 2003-05-03 02:49:48+00:00      130XX S INDIANA AVE   \n",
       "1     2723960    HJ356463 2003-05-11 02:15:00+00:00  063XX N SPRINGFIELD AVE   \n",
       "2     2729187    HJ340573 2003-05-04 12:53:00+00:00       052XX N HARLEM AVE   \n",
       "3     2842760    HJ508197 2003-07-21 01:30:00+00:00      133XX S INDIANA AVE   \n",
       "4     2847006    HJ467423 2003-01-16 11:27:00+00:00     025XX N NORMANDY AVE   \n",
       "\n",
       "   iucr          primary_type                     description  \\\n",
       "0  0340               ROBBERY    ATTEMPT: STRONGARM-NO WEAPON   \n",
       "1  2830         OTHER OFFENSE         OBSCENE TELEPHONE CALLS   \n",
       "2  2250  LIQUOR LAW VIOLATION        LIQUOR LICENSE VIOLATION   \n",
       "3  0337               ROBBERY  ATTEMPT: ARMED-OTHER DANG WEAP   \n",
       "4  1205    DECEPTIVE PRACTICE         THEFT BY LESSEE,NON-VEH   \n",
       "\n",
       "  location_description  arrest  domestic  ...  ward  community_area  fbi_code  \\\n",
       "0               STREET   False     False  ...     9              54        03   \n",
       "1            RESIDENCE   False     False  ...    39              13        17   \n",
       "2           RESTAURANT    True     False  ...    41              10        22   \n",
       "3               STREET   False     False  ...     9              54        03   \n",
       "4     DEPARTMENT STORE   False     False  ...    36              18        11   \n",
       "\n",
       "   x_coordinate y_coordinate  year                updated_on   latitude  \\\n",
       "0     1179915.0    1819012.0  2003 2018-02-28 03:56:25+00:00  41.658636   \n",
       "1     1149223.0    1941702.0  2003 2018-02-28 03:56:25+00:00  41.995959   \n",
       "2     1127354.0    1934238.0  2003 2018-02-28 03:56:25+00:00  41.975874   \n",
       "3     1179952.0    1816688.0  2003 2018-02-28 03:56:25+00:00  41.652258   \n",
       "4     1131321.0    1916235.0  2003 2018-02-28 03:56:25+00:00  41.926404   \n",
       "\n",
       "   longitude                       location  \n",
       "0 -87.617298  (41.658635903, -87.617297524)  \n",
       "1 -87.726437  (41.995958935, -87.726436721)  \n",
       "2 -87.807053  (41.975874105, -87.807052779)  \n",
       "3 -87.617233  (41.652257634, -87.617232779)  \n",
       "4 -87.792882  (41.926404101, -87.792881805)  \n",
       "\n",
       "[5 rows x 22 columns]"
      ]
     },
     "execution_count": 9,
     "metadata": {},
     "output_type": "execute_result"
    }
   ],
   "source": [
    "# Write the code here to explore the data so you can find the answer\n",
    "client.list_rows(table, max_results= 5).to_dataframe()"
   ]
  },
  {
   "cell_type": "code",
   "execution_count": 10,
   "id": "ecd36de2",
   "metadata": {
    "execution": {
     "iopub.execute_input": "2022-07-13T04:18:36.226757Z",
     "iopub.status.busy": "2022-07-13T04:18:36.226341Z",
     "iopub.status.idle": "2022-07-13T04:18:36.233679Z",
     "shell.execute_reply": "2022-07-13T04:18:36.232884Z"
    },
    "papermill": {
     "duration": 0.019928,
     "end_time": "2022-07-13T04:18:36.235971",
     "exception": false,
     "start_time": "2022-07-13T04:18:36.216043",
     "status": "completed"
    },
    "tags": []
   },
   "outputs": [
    {
     "data": {
      "application/javascript": [
       "parent.postMessage({\"jupyterEvent\": \"custom.exercise_interaction\", \"data\": {\"outcomeType\": 1, \"valueTowardsCompletion\": 0.3333333333333333, \"interactionType\": 1, \"questionType\": 2, \"questionId\": \"3_IdentifyFieldsForPlotting\", \"learnToolsVersion\": \"0.3.4\", \"failureMessage\": \"\", \"exceptionClass\": \"\", \"trace\": \"\"}}, \"*\")"
      ],
      "text/plain": [
       "<IPython.core.display.Javascript object>"
      ]
     },
     "metadata": {},
     "output_type": "display_data"
    },
    {
     "data": {
      "text/markdown": [
       "<span style=\"color:#33cc33\">Correct</span>"
      ],
      "text/plain": [
       "Correct"
      ]
     },
     "metadata": {},
     "output_type": "display_data"
    }
   ],
   "source": [
    "fields_for_plotting = ['latitude', 'longitude'] # Put your answers here\n",
    "\n",
    "# Check your answer\n",
    "q_3.check()"
   ]
  },
  {
   "cell_type": "markdown",
   "id": "978be427",
   "metadata": {
    "papermill": {
     "duration": 0.008946,
     "end_time": "2022-07-13T04:18:36.254590",
     "exception": false,
     "start_time": "2022-07-13T04:18:36.245644",
     "status": "completed"
    },
    "tags": []
   },
   "source": [
    "For a hint or the solution, uncomment the appropriate line below."
   ]
  },
  {
   "cell_type": "code",
   "execution_count": 11,
   "id": "d4bd33fc",
   "metadata": {
    "execution": {
     "iopub.execute_input": "2022-07-13T04:18:36.274733Z",
     "iopub.status.busy": "2022-07-13T04:18:36.274192Z",
     "iopub.status.idle": "2022-07-13T04:18:36.281293Z",
     "shell.execute_reply": "2022-07-13T04:18:36.280302Z"
    },
    "papermill": {
     "duration": 0.019482,
     "end_time": "2022-07-13T04:18:36.283342",
     "exception": false,
     "start_time": "2022-07-13T04:18:36.263860",
     "status": "completed"
    },
    "tags": []
   },
   "outputs": [
    {
     "data": {
      "application/javascript": [
       "parent.postMessage({\"jupyterEvent\": \"custom.exercise_interaction\", \"data\": {\"interactionType\": 3, \"questionType\": 2, \"questionId\": \"3_IdentifyFieldsForPlotting\", \"learnToolsVersion\": \"0.3.4\", \"valueTowardsCompletion\": 0.0, \"failureMessage\": \"\", \"exceptionClass\": \"\", \"trace\": \"\", \"outcomeType\": 4}}, \"*\")"
      ],
      "text/plain": [
       "<IPython.core.display.Javascript object>"
      ]
     },
     "metadata": {},
     "output_type": "display_data"
    },
    {
     "data": {
      "text/markdown": [
       "<span style=\"color:#33cc99\">Solution:</span> \n",
       "```python\n",
       "fields_for_plotting = ['latitude', 'longitude']\n",
       "```"
      ],
      "text/plain": [
       "Solution: \n",
       "```python\n",
       "fields_for_plotting = ['latitude', 'longitude']\n",
       "```"
      ]
     },
     "metadata": {},
     "output_type": "display_data"
    }
   ],
   "source": [
    "#q_3.hint()\n",
    "q_3.solution()"
   ]
  },
  {
   "cell_type": "markdown",
   "id": "20691346",
   "metadata": {
    "papermill": {
     "duration": 0.009119,
     "end_time": "2022-07-13T04:18:36.302110",
     "exception": false,
     "start_time": "2022-07-13T04:18:36.292991",
     "status": "completed"
    },
    "tags": []
   },
   "source": [
    "Thinking about the question above, there are a few columns that appear to have geographic data. Look at a few values (with the `list_rows()` command) to see if you can determine their relationship.  Two columns will still be hard to interpret. But it should be obvious how the `location` column relates to `latitude` and `longitude`."
   ]
  },
  {
   "cell_type": "code",
   "execution_count": 12,
   "id": "1dd8e542",
   "metadata": {
    "execution": {
     "iopub.execute_input": "2022-07-13T04:18:36.323244Z",
     "iopub.status.busy": "2022-07-13T04:18:36.322869Z",
     "iopub.status.idle": "2022-07-13T04:18:36.327671Z",
     "shell.execute_reply": "2022-07-13T04:18:36.326249Z"
    },
    "papermill": {
     "duration": 0.018552,
     "end_time": "2022-07-13T04:18:36.330118",
     "exception": false,
     "start_time": "2022-07-13T04:18:36.311566",
     "status": "completed"
    },
    "tags": []
   },
   "outputs": [],
   "source": [
    "# Scratch space for your code"
   ]
  },
  {
   "cell_type": "markdown",
   "id": "e0a74e82",
   "metadata": {
    "papermill": {
     "duration": 0.009797,
     "end_time": "2022-07-13T04:18:36.350163",
     "exception": false,
     "start_time": "2022-07-13T04:18:36.340366",
     "status": "completed"
    },
    "tags": []
   },
   "source": [
    "# Keep going\n",
    "\n",
    "You've looked at the schema, but you haven't yet done anything exciting with the data itself. Things get more interesting when you get to the data, so keep going to **[write your first SQL query](https://www.kaggle.com/dansbecker/select-from-where).**"
   ]
  },
  {
   "cell_type": "markdown",
   "id": "9320f087",
   "metadata": {
    "papermill": {
     "duration": 0.009833,
     "end_time": "2022-07-13T04:18:36.370313",
     "exception": false,
     "start_time": "2022-07-13T04:18:36.360480",
     "status": "completed"
    },
    "tags": []
   },
   "source": [
    "---\n",
    "\n",
    "\n",
    "\n",
    "\n",
    "*Have questions or comments? Visit the [course discussion forum](https://www.kaggle.com/learn/intro-to-sql/discussion) to chat with other learners.*"
   ]
  }
 ],
 "metadata": {
  "kernelspec": {
   "display_name": "Python 3",
   "language": "python",
   "name": "python3"
  },
  "language_info": {
   "codemirror_mode": {
    "name": "ipython",
    "version": 3
   },
   "file_extension": ".py",
   "mimetype": "text/x-python",
   "name": "python",
   "nbconvert_exporter": "python",
   "pygments_lexer": "ipython3",
   "version": "3.7.12"
  },
  "papermill": {
   "default_parameters": {},
   "duration": 13.746024,
   "end_time": "2022-07-13T04:18:37.001569",
   "environment_variables": {},
   "exception": null,
   "input_path": "__notebook__.ipynb",
   "output_path": "__notebook__.ipynb",
   "parameters": {},
   "start_time": "2022-07-13T04:18:23.255545",
   "version": "2.3.4"
  }
 },
 "nbformat": 4,
 "nbformat_minor": 5
}
